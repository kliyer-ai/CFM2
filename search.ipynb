{
 "cells": [
  {
   "cell_type": "code",
   "execution_count": 525,
   "metadata": {},
   "outputs": [],
   "source": [
    "import numpy as np\n",
    "import random\n",
    "import Queue"
   ]
  },
  {
   "cell_type": "code",
   "execution_count": 526,
   "metadata": {},
   "outputs": [],
   "source": [
    "class Vertex:\n",
    "    \n",
    "    n = 0\n",
    "    \n",
    "    def __init__(self):\n",
    "        self.n = Vertex.n\n",
    "        Vertex.n += 1\n",
    "        \n",
    "    def __repr__(self):\n",
    "        return 'Vector ' + str(self.n)  \n",
    "    "
   ]
  },
  {
   "cell_type": "code",
   "execution_count": 527,
   "metadata": {},
   "outputs": [
    {
     "name": "stdout",
     "output_type": "stream",
     "text": [
      "positive constraints {(Vector 4, Vector 0): 4.0315103959899075, (Vector 1, Vector 0): 3.746238234969628}\n",
      "negative constraints {(Vector 4, Vector 2): 4.405052318732829, (Vector 1, Vector 3): 3.1944928079750263}\n",
      "data elements {Vector 2: 2.813149371201153}\n"
     ]
    }
   ],
   "source": [
    "n_nodes = 5\n",
    "n_edges = random.randint(n_nodes, n_nodes)\n",
    "n_data = n_nodes/4\n",
    "\n",
    "max_weight = 5\n",
    "\n",
    "\n",
    "vertices = []\n",
    "c_plus = {}\n",
    "c_minus = {}\n",
    "data_elements = {}\n",
    "\n",
    "# create vertices\n",
    "for n in xrange(n_nodes):\n",
    "    vertices.append(Vertex())\n",
    "    \n",
    "# create edges\n",
    "for n in xrange(n_edges):\n",
    "    vi, vj = random.sample(vertices, 2)\n",
    "    # sort vertices in edge to make it easier to compare two eges\n",
    "    edge = tuple(sorted( (vi, vj) ))\n",
    "    w = random.random() * max_weight\n",
    "    \n",
    "    # check if edge already exists\n",
    "    if edge in c_plus or edge in c_minus:\n",
    "        continue\n",
    "\n",
    "    if random.random() > 0.5:\n",
    "        c_plus[edge] = w\n",
    "    else:\n",
    "        c_minus[edge] = w\n",
    "        \n",
    "# add data elements    \n",
    "for n in xrange(n_data):\n",
    "    v = random.choice(vertices)\n",
    "    w = random.random() * max_weight\n",
    "    data_elements[v] = w\n",
    "\n",
    "\n",
    "print 'positive constraints', c_plus\n",
    "print 'negative constraints', c_minus\n",
    "print 'data elements', data_elements\n"
   ]
  },
  {
   "cell_type": "code",
   "execution_count": 528,
   "metadata": {},
   "outputs": [],
   "source": [
    "def generate_successors(state):\n",
    "    vertices, true, false = state\n",
    "    vertices = list(vertices) # copy list of vertices\n",
    "    \n",
    "    # no new states can be generated \n",
    "    if not vertices:\n",
    "        return []\n",
    "    \n",
    "    v = vertices.pop()\n",
    "    return [ ( vertices, true + [v], false ) , ( vertices, true, false + [v] ) ]"
   ]
  },
  {
   "cell_type": "code",
   "execution_count": 529,
   "metadata": {},
   "outputs": [],
   "source": [
    "def evaluate(state, c_plus, c_minus, data_elements):\n",
    "    vertices, true, false = state\n",
    "    \n",
    "    # not all elements have a true value yet\n",
    "    if vertices:\n",
    "        return 0\n",
    "    \n",
    "    coh = 0\n",
    "    # consistent elements\n",
    "    for (vi, vj), w in c_plus.items():\n",
    "        if vi in true and vj in true:\n",
    "            coh += w\n",
    "    \n",
    "    # inconsistent elements\n",
    "    for (vi, vj), w in c_minus.items():\n",
    "        if vi in true and vj in false or vi in false and vj in true:\n",
    "            coh += w\n",
    "            \n",
    "    # data elements\n",
    "    for v, w in data_elements.items():\n",
    "        if v in c_plus:\n",
    "            coh += w\n",
    "            \n",
    "    return coh\n",
    "    \n",
    "    "
   ]
  },
  {
   "cell_type": "code",
   "execution_count": 530,
   "metadata": {},
   "outputs": [
    {
     "name": "stdout",
     "output_type": "stream",
     "text": [
      "Coherence Value: 15.3772937577\n",
      "True: [Vector 4, Vector 1, Vector 0]\n",
      "False: [Vector 3, Vector 2]\n"
     ]
    }
   ],
   "source": [
    "frontier = []\n",
    "initial_state = (vertices, [], [])\n",
    "\n",
    "# add initial state to frontier\n",
    "frontier += generate_successors(initial_state)\n",
    "\n",
    "best = (0, None)\n",
    "\n",
    "\n",
    "while frontier:\n",
    "    state = frontier.pop()\n",
    "    coh = evaluate(state, c_plus, c_minus, data_elements)\n",
    "    \n",
    "    if coh > best[0]:\n",
    "        _, true, false = state\n",
    "        best = (coh, (true, false) )    \n",
    "    \n",
    "    frontier += generate_successors(state)\n",
    "    \n",
    "print 'Coherence Value:', best[0]\n",
    "print 'True:', best[1][0]\n",
    "print 'False:', best[1][1]"
   ]
  }
 ],
 "metadata": {
  "kernelspec": {
   "display_name": "Python 2",
   "language": "python",
   "name": "python2"
  },
  "language_info": {
   "codemirror_mode": {
    "name": "ipython",
    "version": 2
   },
   "file_extension": ".py",
   "mimetype": "text/x-python",
   "name": "python",
   "nbconvert_exporter": "python",
   "pygments_lexer": "ipython2",
   "version": "2.7.15"
  }
 },
 "nbformat": 4,
 "nbformat_minor": 2
}
